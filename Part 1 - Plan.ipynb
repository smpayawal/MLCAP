{
 "cells": [
  {
   "cell_type": "markdown",
   "id": "81faf76a",
   "metadata": {},
   "source": [
    "<img src=\"Photo/ML Picture.jpg\" width=\"500\"  height=\"200\" align=center>\n"
   ]
  },
  {
   "cell_type": "markdown",
   "id": "af8077cb",
   "metadata": {},
   "source": [
    "# Mobile Legends Comment Analysis Project"
   ]
  },
  {
   "cell_type": "markdown",
   "id": "5d48397c",
   "metadata": {},
   "source": [
    "## Introduction\n",
    "Welcome to the Mobile Legends Comment Analysis Project! In this exciting endeavor, we, the Data Team at Mobile Legends Company, are embarking on a journey to delve deep into the treasure trove of player feedback and comments. Our goal? To unlock hidden insights, understand player sentiments, and enhance the user experience of our beloved game.\n"
   ]
  },
  {
   "cell_type": "markdown",
   "id": "1ebc63e3",
   "metadata": {},
   "source": [
    "## Project Overview\n",
    "\n",
    "Mobile Legends is more than just a game; it's a dynamic community of players who passionately engage with the game, providing feedback that can help shape its future. Our mission is to analyze these comments systematically and gain a comprehensive understanding of what players love, what concerns them, and how we can better meet their expectations.\n"
   ]
  },
  {
   "cell_type": "markdown",
   "id": "f01cc5bc",
   "metadata": {},
   "source": [
    "## Objectives\n",
    "\n",
    "Our main objectives are:\n",
    "\n",
    "1. **Sentiment Analysis:** Uncover the sentiments expressed by players in their comments—whether positive, negative, or neutral. This analysis will help us gauge player satisfaction and areas of improvement.\n",
    "\n",
    "2. **Topic Modeling:** Identify recurring topics and themes that emerge from the comments. This insight will guide us in understanding the aspects of the game that players are most engaged with.\n",
    "\n",
    "3. **Keyword Analysis:** Extract keywords and phrases to pinpoint players' most common interests and concerns.\n",
    "\n",
    "4. **Statistical Analysis:** Perform statistical analyses to find correlations between sentiment and specific game features. This will provide data-backed insights into what drives player sentiments.\n"
   ]
  },
  {
   "cell_type": "markdown",
   "id": "1b5e857a",
   "metadata": {},
   "source": [
    "## Scenario: Data Team at Mobile Legends Company\n",
    "\n",
    "Imagine this: You're part of the Data Team at Mobile Legends Company—a team dedicated to understanding player behavior and enhancing their experience. As a passionate gamer yourself, you're excited to dive into the sea of comments left by players from all over the world. Your findings will directly influence the game's direction, making it an exhilarating endeavor.\n"
   ]
  },
  {
   "cell_type": "markdown",
   "id": "dc321a29",
   "metadata": {},
   "source": [
    "## Approach\n",
    "\n",
    "Our approach involves four main stages:\n",
    "\n",
    "1. **Data Collection and Preprocessing:** Gather the scraped comment reviews from the Google Play Store. Clean the data, tokenize the text, and prepare it for analysis.\n",
    "\n",
    "2. **Exploratory Data Analysis (EDA):** Begin by getting to know your data. Through visualizations and basic statistics, understand the dataset's characteristics and identify initial patterns.\n",
    "\n",
    "3. **Sentiment Analysis and Topic Modeling:** Employ natural language processing techniques to analyze sentiment and uncover prevalent topics. This stage will help you understand how players feel and what they're talking about.\n",
    "\n",
    "4. **Statistical Analysis and Visualization:** Apply statistical techniques to unearth correlations between sentiment and specific game aspects. Visualize your findings to communicate insights effectively.\n"
   ]
  },
  {
   "cell_type": "markdown",
   "id": "eb60b426",
   "metadata": {},
   "source": [
    "## Conclusion\n",
    "\n",
    "The Mobile Legends Comment Analysis Project is more than just data analysis—it's about understanding the hearts and minds of our players. By the end of this journey, you'll have the power to contribute to a more exciting and immersive gaming experience for millions of players worldwide.\n",
    "\n",
    "So, grab your virtual lab coat, charge your laptops, and let's dive into the realm of data-driven insights for the betterment of Mobile Legends!"
   ]
  },
  {
   "cell_type": "markdown",
   "id": "06871ffd",
   "metadata": {},
   "source": [
    "<img src=\"Photo/Logo Mobile Legends.png\" width=\"300\"  height=\"100\" align=center>"
   ]
  }
 ],
 "metadata": {
  "kernelspec": {
   "display_name": "Python 3 (ipykernel)",
   "language": "python",
   "name": "python3"
  },
  "language_info": {
   "codemirror_mode": {
    "name": "ipython",
    "version": 3
   },
   "file_extension": ".py",
   "mimetype": "text/x-python",
   "name": "python",
   "nbconvert_exporter": "python",
   "pygments_lexer": "ipython3",
   "version": "3.8.12"
  }
 },
 "nbformat": 4,
 "nbformat_minor": 5
}
